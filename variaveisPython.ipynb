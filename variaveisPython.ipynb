{
 "cells": [
  {
   "cell_type": "markdown",
   "id": "621c1043",
   "metadata": {},
   "source": [
    "<h1>Referência a objetos</h1>"
   ]
  },
  {
   "cell_type": "markdown",
   "id": "7ec3ed50",
   "metadata": {},
   "source": [
    "<h3>Este assunto está no cerne de muitos bugs sutis em programas python reais.</h3>"
   ]
  },
  {
   "cell_type": "markdown",
   "id": "4b26927a",
   "metadata": {},
   "source": [
    "<p><strong>Variáveis não são caixas!!!</strong><br>\n",
    "    <a href='https://www.linkedin.com/in/lucianoramalho/'>Luciano Ramalho</a> no seu livro <a href='https://www.amazon.com.br/Python-Fluente-Programa%C3%A7%C3%A3o-Concisa-Eficaz/dp/857522462X'>python fluente</a> argumenta que a metáfora usual “variáveis são caixa”, na verdade, atrapalha o  entendimento de variáveis de referência em linguagens orientadas a objetos.</p>"
   ]
  },
  {
   "cell_type": "markdown",
   "id": "e5abea4b",
   "metadata": {},
   "source": [
    "<p>Uma variável Python é um nome simbólico, que é uma referência ou ponteiro para um objeto. Depois que um objeto é atribuído a uma variável, você pode se referir ao objeto por esse nome.</p>"
   ]
  },
  {
   "cell_type": "markdown",
   "id": "dc4b3940",
   "metadata": {},
   "source": [
    "<img src='Captura de tela de 2022-10-04 18-06-07.png'>"
   ]
  },
  {
   "cell_type": "code",
   "execution_count": 10,
   "id": "547ef84f",
   "metadata": {},
   "outputs": [],
   "source": [
    "mandioca = 'alimento'"
   ]
  },
  {
   "cell_type": "code",
   "execution_count": 12,
   "id": "803003d0",
   "metadata": {},
   "outputs": [
    {
     "name": "stdout",
     "output_type": "stream",
     "text": [
      "mandioca -> alimento\n"
     ]
    }
   ],
   "source": [
    "print(f'mandioca -> {mandioca}')"
   ]
  },
  {
   "cell_type": "markdown",
   "id": "2c1264d2",
   "metadata": {},
   "source": [
    "<p>O que acontece se eu criar uma variável \"aipim\" e atribuir “mandioca” a ela?</p>"
   ]
  },
  {
   "cell_type": "markdown",
   "id": "c400b918",
   "metadata": {},
   "source": [
    "<img src='Captura de tela de 2022-10-04 18-08-42.png' width='650' height='150'>"
   ]
  },
  {
   "cell_type": "markdown",
   "id": "d2427b18",
   "metadata": {},
   "source": [
    "<p>Python não produz um novo objeto. Ele apenas gera um novo nome simbólico ou referência, aipim, que se refere à mesma coisa que mandioca. Em Python, esse cenário em que vários nomes se referem ao mesmo objeto é conhecido como referência compartilhada.</p>"
   ]
  },
  {
   "cell_type": "code",
   "execution_count": 13,
   "id": "768d8077",
   "metadata": {},
   "outputs": [],
   "source": [
    "aipim = mandioca"
   ]
  },
  {
   "cell_type": "code",
   "execution_count": 14,
   "id": "fb31c602",
   "metadata": {},
   "outputs": [
    {
     "name": "stdout",
     "output_type": "stream",
     "text": [
      "mandioca -> alimento | aipim -> alimento\n"
     ]
    }
   ],
   "source": [
    "print(f'mandioca -> {mandioca} | aipim -> {aipim}')"
   ]
  },
  {
   "cell_type": "markdown",
   "id": "7adf8a1c",
   "metadata": {},
   "source": [
    "<img src='Captura de tela de 2022-10-04 18-23-58.png'>"
   ]
  },
  {
   "cell_type": "markdown",
   "id": "425e77b4",
   "metadata": {},
   "source": [
    "<p>Um novo objeto int será criado por python com o valor “160” e então “mandioca” será referenciado a ele.</p>"
   ]
  },
  {
   "cell_type": "code",
   "execution_count": 15,
   "id": "76a4e20e",
   "metadata": {},
   "outputs": [],
   "source": [
    "mandioca = 160"
   ]
  },
  {
   "cell_type": "code",
   "execution_count": 16,
   "id": "be1df99e",
   "metadata": {},
   "outputs": [
    {
     "name": "stdout",
     "output_type": "stream",
     "text": [
      "mandioca -> 160 | aipim -> alimento\n"
     ]
    }
   ],
   "source": [
    "print(f'mandioca -> {mandioca} | aipim -> {aipim}')"
   ]
  },
  {
   "cell_type": "markdown",
   "id": "6fc02fc0",
   "metadata": {},
   "source": [
    "<p>mas e objetos mais complexos como listas??</p>"
   ]
  },
  {
   "cell_type": "code",
   "execution_count": 17,
   "id": "cf0fdf72",
   "metadata": {},
   "outputs": [],
   "source": [
    "l1 = [1, 2, 3]\n",
    "l2 = l1"
   ]
  },
  {
   "cell_type": "markdown",
   "id": "1c9f6a0e",
   "metadata": {},
   "source": [
    "<img src='Captura de tela de 2022-10-04 18-59-10.png'>"
   ]
  },
  {
   "cell_type": "markdown",
   "id": "780085b4",
   "metadata": {},
   "source": [
    "<img src='Captura de tela de 2022-10-04 18-36-39.png'>"
   ]
  },
  {
   "cell_type": "code",
   "execution_count": 18,
   "id": "8ef98ee2",
   "metadata": {},
   "outputs": [
    {
     "name": "stdout",
     "output_type": "stream",
     "text": [
      "l1 -> [1, 2, 3]\n",
      "l2 -> [1, 2, 3]\n"
     ]
    }
   ],
   "source": [
    "print(f'l1 -> {l1}')\n",
    "print(f'l2 -> {l2}')"
   ]
  },
  {
   "cell_type": "code",
   "execution_count": 19,
   "id": "5217438a",
   "metadata": {},
   "outputs": [],
   "source": [
    "l1.append(4)"
   ]
  },
  {
   "cell_type": "markdown",
   "id": "646e3851",
   "metadata": {},
   "source": [
    "<img src='Captura de tela de 2022-10-04 18-36-12.png'>"
   ]
  },
  {
   "cell_type": "code",
   "execution_count": 20,
   "id": "083383e8",
   "metadata": {},
   "outputs": [
    {
     "name": "stdout",
     "output_type": "stream",
     "text": [
      "l1 -> [1, 2, 3, 4]\n",
      "l2 -> [1, 2, 3, 4]\n"
     ]
    }
   ],
   "source": [
    "print(f'l1 -> {l1}')\n",
    "print(f'l2 -> {l2}')"
   ]
  },
  {
   "cell_type": "code",
   "execution_count": 21,
   "id": "af3a828d",
   "metadata": {},
   "outputs": [
    {
     "data": {
      "text/plain": [
       "True"
      ]
     },
     "execution_count": 21,
     "metadata": {},
     "output_type": "execute_result"
    }
   ],
   "source": [
    "l1 == l2"
   ]
  },
  {
   "cell_type": "code",
   "execution_count": 22,
   "id": "26a018f6",
   "metadata": {},
   "outputs": [
    {
     "data": {
      "text/plain": [
       "True"
      ]
     },
     "execution_count": 22,
     "metadata": {},
     "output_type": "execute_result"
    }
   ],
   "source": [
    "l1 is l2"
   ]
  },
  {
   "cell_type": "code",
   "execution_count": 23,
   "id": "37eb5e14",
   "metadata": {},
   "outputs": [
    {
     "data": {
      "text/plain": [
       "True"
      ]
     },
     "execution_count": 23,
     "metadata": {},
     "output_type": "execute_result"
    }
   ],
   "source": [
    "id(l1) == id(l2)"
   ]
  },
  {
   "cell_type": "markdown",
   "id": "8573d867",
   "metadata": {},
   "source": [
    "<h3>Copias são rasas por padrão</h3>"
   ]
  },
  {
   "cell_type": "markdown",
   "id": "36bf3c8c",
   "metadata": {},
   "source": [
    "<p>A maneira mais simples de copiar uma lista (ou a maioria das coleções embutidas \n",
    "mutáveis) é usar  o construtor embutido do próprio tipo.</p>"
   ]
  },
  {
   "cell_type": "code",
   "execution_count": 24,
   "id": "34310f0c",
   "metadata": {},
   "outputs": [],
   "source": [
    "l1 = [1, 2, 3]\n",
    "l2 = list(l1)"
   ]
  },
  {
   "cell_type": "markdown",
   "id": "0aa6e92f",
   "metadata": {},
   "source": [
    "<img src='Captura de tela de 2022-10-04 18-50-10.png'>"
   ]
  },
  {
   "cell_type": "markdown",
   "id": "5fe1472e",
   "metadata": {},
   "source": [
    "<img src='Captura de tela de 2022-10-04 18-50-20.png'>"
   ]
  },
  {
   "cell_type": "code",
   "execution_count": 25,
   "id": "10a64c2c",
   "metadata": {},
   "outputs": [
    {
     "name": "stdout",
     "output_type": "stream",
     "text": [
      "l1 -> [1, 2, 3]\n",
      "l2 -> [1, 2, 3]\n"
     ]
    }
   ],
   "source": [
    "print(f'l1 -> {l1}')\n",
    "print(f'l2 -> {l2}')"
   ]
  },
  {
   "cell_type": "code",
   "execution_count": 26,
   "id": "e95879fd",
   "metadata": {},
   "outputs": [],
   "source": [
    "l1.append(4)"
   ]
  },
  {
   "cell_type": "markdown",
   "id": "802b9ef5",
   "metadata": {},
   "source": [
    "<img src='Captura de tela de 2022-10-04 18-50-31.png'>"
   ]
  },
  {
   "cell_type": "code",
   "execution_count": 27,
   "id": "31646072",
   "metadata": {},
   "outputs": [
    {
     "name": "stdout",
     "output_type": "stream",
     "text": [
      "l1 -> [1, 2, 3, 4]\n",
      "l2 -> [1, 2, 3]\n"
     ]
    }
   ],
   "source": [
    "print(f'l1 -> {l1}')\n",
    "print(f'l2 -> {l2}')"
   ]
  },
  {
   "cell_type": "markdown",
   "id": "3c7cb65d",
   "metadata": {},
   "source": [
    "<p><strong>Porém...</strong></p>"
   ]
  },
  {
   "cell_type": "code",
   "execution_count": 33,
   "id": "37c6fd10",
   "metadata": {},
   "outputs": [],
   "source": [
    "l3 = [1, 2, [3, 4]]\n",
    "l4 = list(l3)"
   ]
  },
  {
   "cell_type": "markdown",
   "id": "ebfe5516",
   "metadata": {},
   "source": [
    "<img src='Captura de tela de 2022-10-04 19-01-09.png'>"
   ]
  },
  {
   "cell_type": "markdown",
   "id": "2fbbad44",
   "metadata": {},
   "source": [
    "<img src='Captura de tela de 2022-10-04 18-57-56.png'>"
   ]
  },
  {
   "cell_type": "code",
   "execution_count": 34,
   "id": "854453b4",
   "metadata": {},
   "outputs": [
    {
     "name": "stdout",
     "output_type": "stream",
     "text": [
      "l3 -> [1, 2, [3, 4]]\n",
      "l4 -> [1, 2, [3, 4]]\n"
     ]
    }
   ],
   "source": [
    "print(f'l3 -> {l3}')\n",
    "print(f'l4 -> {l4}')"
   ]
  },
  {
   "cell_type": "code",
   "execution_count": 35,
   "id": "e73ed2dc",
   "metadata": {},
   "outputs": [],
   "source": [
    "l3.append(6)\n",
    "l4[2].append(5)"
   ]
  },
  {
   "cell_type": "markdown",
   "id": "cae164de",
   "metadata": {},
   "source": [
    "<img src='Captura de tela de 2022-10-04 18-58-12.png'>"
   ]
  },
  {
   "cell_type": "markdown",
   "id": "5edb5d68",
   "metadata": {},
   "source": [
    "<img src='Captura de tela de 2022-10-04 18-58-24.png'>"
   ]
  },
  {
   "cell_type": "code",
   "execution_count": 36,
   "id": "5e8a1cb3",
   "metadata": {},
   "outputs": [
    {
     "name": "stdout",
     "output_type": "stream",
     "text": [
      "l3 -> [1, 2, [3, 4, 5], 6]\n",
      "l4 -> [1, 2, [3, 4, 5]]\n"
     ]
    }
   ],
   "source": [
    "print(f'l3 -> {l3}')\n",
    "print(f'l4 -> {l4}')"
   ]
  },
  {
   "cell_type": "markdown",
   "id": "e80fef1c",
   "metadata": {},
   "source": [
    "<p><strong>Mas então como posso fazer uma cópia??</strong></p>"
   ]
  },
  {
   "cell_type": "markdown",
   "id": "dce17e0b",
   "metadata": {},
   "source": [
    "<h3>Cópias profundas e rasas de objetos quaisquer</h3>"
   ]
  },
  {
   "cell_type": "markdown",
   "id": "16d28dc3",
   "metadata": {},
   "source": [
    "<p>Trabalhar com cópias rasas nem sempre é um problema, mas às vezes, você precisará\n",
    "fazer cópias profundas (isto é, duplicatas que não compartilhem referências aos objetos incluídos). O módulo <a href='https://docs.python.org/3/library/copy.html'>copy</a> oferece as funções “deepcopy” e “copy”, que devolvem cópias profundas e rasas de objetos quaisquer.</p>"
   ]
  }
 ],
 "metadata": {
  "kernelspec": {
   "display_name": "Python 3 (ipykernel)",
   "language": "python",
   "name": "python3"
  },
  "language_info": {
   "codemirror_mode": {
    "name": "ipython",
    "version": 3
   },
   "file_extension": ".py",
   "mimetype": "text/x-python",
   "name": "python",
   "nbconvert_exporter": "python",
   "pygments_lexer": "ipython3",
   "version": "3.8.10"
  }
 },
 "nbformat": 4,
 "nbformat_minor": 5
}
