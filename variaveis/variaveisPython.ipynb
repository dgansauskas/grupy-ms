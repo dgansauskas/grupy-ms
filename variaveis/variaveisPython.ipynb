{
 "cells": [
  {
   "cell_type": "markdown",
   "id": "84a181c7",
   "metadata": {},
   "source": [
    "<h1>Referência a objetos</h1>"
   ]
  },
  {
   "cell_type": "markdown",
   "id": "a32e3ee2",
   "metadata": {},
   "source": [
    "<h3>Este assunto está no cerne de muitos bugs sutis em programas python reais.</h3>"
   ]
  },
  {
   "cell_type": "markdown",
   "id": "cc8a9a54",
   "metadata": {},
   "source": [
    "<p><strong>Variáveis não são caixas!!!</strong><br>\n",
    "    <a href='https://www.linkedin.com/in/lucianoramalho/'>Luciano Ramalho</a> no seu livro <a href='https://www.amazon.com.br/Python-Fluente-Programa%C3%A7%C3%A3o-Concisa-Eficaz/dp/857522462X'>python fluente</a> argumenta que a metáfora usual “variáveis são caixa”, na verdade, atrapalha o  entendimento de variáveis de referência em linguagens orientadas a objetos.</p>"
   ]
  },
  {
   "cell_type": "markdown",
   "id": "c10a151e",
   "metadata": {},
   "source": [
    "<p>Uma variável Python é um nome simbólico, que é uma referência ou ponteiro para um objeto. Depois que um objeto é atribuído a uma variável, você pode se referir ao objeto por esse nome.</p>"
   ]
  },
  {
   "cell_type": "markdown",
   "id": "44ba9aec",
   "metadata": {},
   "source": [
    "<img src='imagens/Captura de tela de 2022-10-04 18-06-07.png'>"
   ]
  },
  {
   "cell_type": "code",
   "execution_count": 1,
   "id": "b9772068",
   "metadata": {},
   "outputs": [],
   "source": [
    "mandioca = 'alimento'"
   ]
  },
  {
   "cell_type": "code",
   "execution_count": 2,
   "id": "97c530af",
   "metadata": {},
   "outputs": [
    {
     "name": "stdout",
     "output_type": "stream",
     "text": [
      "mandioca -> alimento\n"
     ]
    }
   ],
   "source": [
    "print(f'mandioca -> {mandioca}')"
   ]
  },
  {
   "cell_type": "markdown",
   "id": "d8c9e390",
   "metadata": {},
   "source": [
    "<p>O que acontece se eu criar uma variável \"aipim\" e atribuir “mandioca” a ela?</p>"
   ]
  },
  {
   "cell_type": "markdown",
   "id": "e74a2238",
   "metadata": {},
   "source": [
    "<img src='imagens/Captura de tela de 2022-10-04 18-08-42.png' width='650' height='150'>"
   ]
  },
  {
   "cell_type": "markdown",
   "id": "66754114",
   "metadata": {},
   "source": [
    "<p>Python não produz um novo objeto. Ele apenas gera um novo nome simbólico ou referência, aipim, que se refere à mesma coisa que mandioca. Em Python, esse cenário em que vários nomes se referem ao mesmo objeto é conhecido como referência compartilhada.</p>"
   ]
  },
  {
   "cell_type": "code",
   "execution_count": 3,
   "id": "bb57f809",
   "metadata": {},
   "outputs": [],
   "source": [
    "aipim = mandioca"
   ]
  },
  {
   "cell_type": "code",
   "execution_count": 4,
   "id": "67133281",
   "metadata": {},
   "outputs": [
    {
     "name": "stdout",
     "output_type": "stream",
     "text": [
      "mandioca -> alimento | aipim -> alimento\n"
     ]
    }
   ],
   "source": [
    "print(f'mandioca -> {mandioca} | aipim -> {aipim}')"
   ]
  },
  {
   "cell_type": "markdown",
   "id": "1dceacdd",
   "metadata": {},
   "source": [
    "<img src='imagens/Captura de tela de 2022-10-04 18-23-58.png'>"
   ]
  },
  {
   "cell_type": "markdown",
   "id": "249b8f4c",
   "metadata": {},
   "source": [
    "<p>Um novo objeto int será criado por python com o valor “160” e então “mandioca” será referenciado a ele.</p>"
   ]
  },
  {
   "cell_type": "code",
   "execution_count": 5,
   "id": "4ff56939",
   "metadata": {},
   "outputs": [],
   "source": [
    "mandioca = 160"
   ]
  },
  {
   "cell_type": "code",
   "execution_count": 6,
   "id": "90bdccf9",
   "metadata": {},
   "outputs": [
    {
     "name": "stdout",
     "output_type": "stream",
     "text": [
      "mandioca -> 160 | aipim -> alimento\n"
     ]
    }
   ],
   "source": [
    "print(f'mandioca -> {mandioca} | aipim -> {aipim}')"
   ]
  },
  {
   "cell_type": "markdown",
   "id": "a3dfbcfb",
   "metadata": {},
   "source": [
    "<p>mas e objetos mais complexos como listas??</p>"
   ]
  },
  {
   "cell_type": "code",
   "execution_count": 7,
   "id": "bea625f1",
   "metadata": {},
   "outputs": [],
   "source": [
    "l1 = [1, 2, 3]\n",
    "l2 = l1"
   ]
  },
  {
   "cell_type": "markdown",
   "id": "f037c9a8",
   "metadata": {},
   "source": [
    "<img src='imagens/Captura de tela de 2022-10-04 18-59-10.png'>"
   ]
  },
  {
   "cell_type": "markdown",
   "id": "bdeba9b9",
   "metadata": {},
   "source": [
    "<img src='imagens/Captura de tela de 2022-10-04 18-36-39.png'>"
   ]
  },
  {
   "cell_type": "code",
   "execution_count": 8,
   "id": "02f51846",
   "metadata": {},
   "outputs": [
    {
     "name": "stdout",
     "output_type": "stream",
     "text": [
      "l1 -> [1, 2, 3]\n",
      "l2 -> [1, 2, 3]\n"
     ]
    }
   ],
   "source": [
    "print(f'l1 -> {l1}')\n",
    "print(f'l2 -> {l2}')"
   ]
  },
  {
   "cell_type": "code",
   "execution_count": 9,
   "id": "9ed7f4d3",
   "metadata": {},
   "outputs": [],
   "source": [
    "l1.append(4)"
   ]
  },
  {
   "cell_type": "markdown",
   "id": "2b99bd0b",
   "metadata": {},
   "source": [
    "<img src='imagens/Captura de tela de 2022-10-04 18-36-12.png'>"
   ]
  },
  {
   "cell_type": "code",
   "execution_count": 10,
   "id": "487dadd6",
   "metadata": {},
   "outputs": [
    {
     "name": "stdout",
     "output_type": "stream",
     "text": [
      "l1 -> [1, 2, 3, 4]\n",
      "l2 -> [1, 2, 3, 4]\n"
     ]
    }
   ],
   "source": [
    "print(f'l1 -> {l1}')\n",
    "print(f'l2 -> {l2}')"
   ]
  },
  {
   "cell_type": "code",
   "execution_count": 11,
   "id": "939ca454",
   "metadata": {},
   "outputs": [
    {
     "data": {
      "text/plain": [
       "True"
      ]
     },
     "execution_count": 11,
     "metadata": {},
     "output_type": "execute_result"
    }
   ],
   "source": [
    "l1 == l2"
   ]
  },
  {
   "cell_type": "code",
   "execution_count": 12,
   "id": "5deedd9e",
   "metadata": {},
   "outputs": [
    {
     "data": {
      "text/plain": [
       "True"
      ]
     },
     "execution_count": 12,
     "metadata": {},
     "output_type": "execute_result"
    }
   ],
   "source": [
    "l1 is l2"
   ]
  },
  {
   "cell_type": "code",
   "execution_count": 13,
   "id": "88c995d3",
   "metadata": {},
   "outputs": [
    {
     "data": {
      "text/plain": [
       "True"
      ]
     },
     "execution_count": 13,
     "metadata": {},
     "output_type": "execute_result"
    }
   ],
   "source": [
    "id(l1) == id(l2)"
   ]
  },
  {
   "cell_type": "markdown",
   "id": "9f18ac47",
   "metadata": {},
   "source": [
    "<h3>Copias são rasas por padrão</h3>"
   ]
  },
  {
   "cell_type": "markdown",
   "id": "e9eb7f1e",
   "metadata": {},
   "source": [
    "<p>A maneira mais simples de copiar uma lista (ou a maioria das coleções embutidas \n",
    "mutáveis) é usar  o construtor embutido do próprio tipo.</p>"
   ]
  },
  {
   "cell_type": "code",
   "execution_count": 14,
   "id": "247a9cd9",
   "metadata": {},
   "outputs": [],
   "source": [
    "l1 = [1, 2, 3]\n",
    "l2 = list(l1)"
   ]
  },
  {
   "cell_type": "markdown",
   "id": "d83225ad",
   "metadata": {},
   "source": [
    "<img src='imagens/Captura de tela de 2022-10-04 18-50-10.png'>"
   ]
  },
  {
   "cell_type": "markdown",
   "id": "17200426",
   "metadata": {},
   "source": [
    "<img src='imagens/Captura de tela de 2022-10-04 18-50-20.png'>"
   ]
  },
  {
   "cell_type": "code",
   "execution_count": 15,
   "id": "94e0eea4",
   "metadata": {},
   "outputs": [
    {
     "name": "stdout",
     "output_type": "stream",
     "text": [
      "l1 -> [1, 2, 3]\n",
      "l2 -> [1, 2, 3]\n"
     ]
    }
   ],
   "source": [
    "print(f'l1 -> {l1}')\n",
    "print(f'l2 -> {l2}')"
   ]
  },
  {
   "cell_type": "code",
   "execution_count": 16,
   "id": "8282ff4c",
   "metadata": {},
   "outputs": [],
   "source": [
    "l1.append(4)"
   ]
  },
  {
   "cell_type": "markdown",
   "id": "644f3039",
   "metadata": {},
   "source": [
    "<img src='imagens/Captura de tela de 2022-10-04 18-50-31.png'>"
   ]
  },
  {
   "cell_type": "code",
   "execution_count": 17,
   "id": "db46d29a",
   "metadata": {},
   "outputs": [
    {
     "name": "stdout",
     "output_type": "stream",
     "text": [
      "l1 -> [1, 2, 3, 4]\n",
      "l2 -> [1, 2, 3]\n"
     ]
    }
   ],
   "source": [
    "print(f'l1 -> {l1}')\n",
    "print(f'l2 -> {l2}')"
   ]
  },
  {
   "cell_type": "markdown",
   "id": "b5404f03",
   "metadata": {},
   "source": [
    "<p><strong>Porém...</strong></p>"
   ]
  },
  {
   "cell_type": "code",
   "execution_count": 18,
   "id": "8957fd73",
   "metadata": {},
   "outputs": [],
   "source": [
    "l3 = [1, 2, [3, 4]]\n",
    "l4 = list(l3)"
   ]
  },
  {
   "cell_type": "markdown",
   "id": "d721484a",
   "metadata": {},
   "source": [
    "<img src='imagens/Captura de tela de 2022-10-04 19-01-09.png'>"
   ]
  },
  {
   "cell_type": "markdown",
   "id": "73e3c13e",
   "metadata": {},
   "source": [
    "<img src='imagens/Captura de tela de 2022-10-04 18-57-56.png'>"
   ]
  },
  {
   "cell_type": "code",
   "execution_count": 19,
   "id": "8b59cdd6",
   "metadata": {},
   "outputs": [
    {
     "name": "stdout",
     "output_type": "stream",
     "text": [
      "l3 -> [1, 2, [3, 4]]\n",
      "l4 -> [1, 2, [3, 4]]\n"
     ]
    }
   ],
   "source": [
    "print(f'l3 -> {l3}')\n",
    "print(f'l4 -> {l4}')"
   ]
  },
  {
   "cell_type": "code",
   "execution_count": 20,
   "id": "b315e283",
   "metadata": {},
   "outputs": [],
   "source": [
    "l3.append(6)\n",
    "l4[2].append(5)"
   ]
  },
  {
   "cell_type": "markdown",
   "id": "4371ab3e",
   "metadata": {},
   "source": [
    "<img src='imagens/Captura de tela de 2022-10-04 18-58-12.png'>"
   ]
  },
  {
   "cell_type": "markdown",
   "id": "756a37ec",
   "metadata": {},
   "source": [
    "<img src='imagens/Captura de tela de 2022-10-04 18-58-24.png'>"
   ]
  },
  {
   "cell_type": "code",
   "execution_count": 21,
   "id": "58c414a2",
   "metadata": {},
   "outputs": [
    {
     "name": "stdout",
     "output_type": "stream",
     "text": [
      "l3 -> [1, 2, [3, 4, 5], 6]\n",
      "l4 -> [1, 2, [3, 4, 5]]\n"
     ]
    }
   ],
   "source": [
    "print(f'l3 -> {l3}')\n",
    "print(f'l4 -> {l4}')"
   ]
  },
  {
   "cell_type": "markdown",
   "id": "a119e981",
   "metadata": {},
   "source": [
    "<p><strong>Mas então como posso fazer uma cópia??</strong></p>"
   ]
  },
  {
   "cell_type": "markdown",
   "id": "dfd86da8",
   "metadata": {},
   "source": [
    "<h3>Cópias profundas e rasas de objetos quaisquer</h3>"
   ]
  },
  {
   "cell_type": "markdown",
   "id": "404f0fb4",
   "metadata": {},
   "source": [
    "<p>Trabalhar com cópias rasas nem sempre é um problema, mas às vezes, você precisará\n",
    "fazer cópias profundas (isto é, duplicatas que não compartilhem referências aos objetos incluídos). O módulo <a href='https://docs.python.org/3/library/copy.html'>copy</a> oferece as funções “deepcopy” e “copy”, que devolvem cópias profundas e rasas de objetos quaisquer.</p>"
   ]
  }
 ],
 "metadata": {
  "kernelspec": {
   "display_name": "Python 3 (ipykernel)",
   "language": "python",
   "name": "python3"
  },
  "language_info": {
   "codemirror_mode": {
    "name": "ipython",
    "version": 3
   },
   "file_extension": ".py",
   "mimetype": "text/x-python",
   "name": "python",
   "nbconvert_exporter": "python",
   "pygments_lexer": "ipython3",
   "version": "3.8.10"
  }
 },
 "nbformat": 4,
 "nbformat_minor": 5
}
